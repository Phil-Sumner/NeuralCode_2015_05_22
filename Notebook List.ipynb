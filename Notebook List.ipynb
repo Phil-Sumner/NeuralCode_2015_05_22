{
 "cells": [
  {
   "cell_type": "code",
   "execution_count": 39,
   "metadata": {
    "collapsed": false
   },
   "outputs": [
    {
     "data": {
      "text/html": [
       "<a href='notebooks/Lambda functions.ipynb' target='_blank'>notebooks/Lambda functions.ipynb</a><br>"
      ],
      "text/plain": [
       "/Users/Neuromancer/Documents/neuralcode/NeuralCode_2015_05_22/notebooks/Lambda functions.ipynb"
      ]
     },
     "metadata": {},
     "output_type": "display_data"
    },
    {
     "data": {
      "text/html": [
       "<a href='notebooks/nltk.ipynb' target='_blank'>notebooks/nltk.ipynb</a><br>"
      ],
      "text/plain": [
       "/Users/Neuromancer/Documents/neuralcode/NeuralCode_2015_05_22/notebooks/nltk.ipynb"
      ]
     },
     "metadata": {},
     "output_type": "display_data"
    },
    {
     "data": {
      "text/html": [
       "<a href='notebooks/patient data.ipynb' target='_blank'>notebooks/patient data.ipynb</a><br>"
      ],
      "text/plain": [
       "/Users/Neuromancer/Documents/neuralcode/NeuralCode_2015_05_22/notebooks/patient data.ipynb"
      ]
     },
     "metadata": {},
     "output_type": "display_data"
    }
   ],
   "source": [
    "from IPython.display import FileLink, FileLinks\n",
    "import glob\n",
    "\n",
    "fl_list = glob.glob(\"notebooks/*.ipynb\")\n",
    "for x in fl_list:\n",
    "    display(FileLink(x))"
   ]
  }
 ],
 "metadata": {
  "kernelspec": {
   "display_name": "Python 3",
   "language": "python",
   "name": "python3"
  },
  "language_info": {
   "codemirror_mode": {
    "name": "ipython",
    "version": 3
   },
   "file_extension": ".py",
   "mimetype": "text/x-python",
   "name": "python",
   "nbconvert_exporter": "python",
   "pygments_lexer": "ipython3",
   "version": "3.4.3"
  }
 },
 "nbformat": 4,
 "nbformat_minor": 0
}
